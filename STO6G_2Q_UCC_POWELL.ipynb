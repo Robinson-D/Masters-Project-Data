{
 "cells": [
  {
   "cell_type": "markdown",
   "id": "b9c34357-a451-4ba4-a451-4dca34cfa827",
   "metadata": {},
   "source": [
    "STO6G 2Q UCC POWELL"
   ]
  },
  {
   "cell_type": "code",
   "execution_count": null,
   "id": "69e2d7fc-d25e-47cf-ae9d-757e0685256c",
   "metadata": {},
   "outputs": [],
   "source": [
    "#loading libraries\n",
    "import os\n",
    "import csv\n",
    "import matplotlib.pyplot as plt\n",
    "import numpy as np\n",
    "import pandas as pd\n",
    "import scipy.stats\n",
    "from scipy.optimize import curve_fit\n",
    "from scipy.stats import shapiro\n",
    "!pip install fitter\n",
    "from fitter import Fitter, get_common_distributions, get_distributions\n",
    "from scipy.stats import norm\n",
    "from scipy.optimize import minimize\n",
    "%matplotlib inline\n",
    "from scipy.stats import lognorm "
   ]
  },
  {
   "cell_type": "markdown",
   "id": "0e563880-6f93-4273-9b54-c79d5b4e97dc",
   "metadata": {},
   "source": [
    "Exact Result: -1.009484711724656 HF energy: -0.9243677282844516 Exact correlation energy: -0.08511698344020435"
   ]
  },
  {
   "cell_type": "code",
   "execution_count": null,
   "id": "f4d9afeb-3482-4c66-9314-63b59ec1f7da",
   "metadata": {},
   "outputs": [],
   "source": [
    "with open(\"Exact_Sol_STO6G_2Q_UCC_POW.txt\",\"r\") as f: #\"Exact_Sol_sto6g_ucc_4qubit.txt\"\n",
    "    Ref_Energy = f.read()\n",
    "    \n",
    "print(Ref_Energy)"
   ]
  },
  {
   "cell_type": "code",
   "execution_count": null,
   "id": "c6ffa475-dfbf-4af3-9ef1-a8e2c6382195",
   "metadata": {},
   "outputs": [],
   "source": [
    "with open(\"STO6G_2Q_UCC_POW.txt\",\"r\") as f:\n",
    "    vqe_6G = f.read().splitlines()\n",
    "    vqe_6G.remove(\"Vqe Result\")\n",
    "    vqe_6G = list(map(float,vqe_6G))\n",
    "print(len(vqe_6G))"
   ]
  },
  {
   "cell_type": "code",
   "execution_count": null,
   "id": "17dd05d3-49eb-4158-973d-0fc955edec75",
   "metadata": {},
   "outputs": [],
   "source": [
    "with plt.style.context('seaborn'):\n",
    "    plt.hist(vqe_6G,density=True,bins='auto')\n",
    "    plt.xlabel('Energy [H]')\n",
    "    plt.ylabel('Frequency')\n",
    "    plt.show()"
   ]
  },
  {
   "cell_type": "code",
   "execution_count": null,
   "id": "6bd5a180-7d50-4676-85dd-df0b53b75967",
   "metadata": {},
   "outputs": [],
   "source": [
    "#Histogram of the percentage deviation from reference data for the tests\n",
    "# orginal 100*(np.array(ens)-REFERENCE_energy)/REFERENCE_energy\n",
    "with plt.style.context('seaborn'):\n",
    "    #plt.hist(100*(float(Ref_Energy)-np.array(vqe_6G))/float(Ref_Energy),density=True,bins='auto')\n",
    "    plt.hist(100*(np.array(vqe_6G)-float(Ref_Energy))/float(Ref_Energy),density=True,bins='auto')\n",
    "    plt.xlabel('Percentage error compared to FCI energy [%]')\n",
    "    plt.ylabel('Frequency')\n",
    "    plt.show()"
   ]
  },
  {
   "cell_type": "code",
   "execution_count": null,
   "id": "0bb60975-98a6-44ea-8e22-e29b41329e3f",
   "metadata": {},
   "outputs": [],
   "source": [
    "err =100*(np.array(vqe_6G)-float(Ref_Energy))/float(Ref_Energy)\n",
    "\n",
    "[s_fit,loc_fit,scale_fit] = scipy.stats.lognorm.fit(err)\n",
    "[loc2_fit,scale2_fit] = scipy.stats.cauchy.fit(err)\n",
    "x = np.linspace(np.min(err),np.max(err))\n",
    "\n",
    "with plt.style.context('seaborn'):\n",
    "    plt.hist(err,bins = 'auto',density = True) #plotting rating hist\n",
    "    plt.plot(x,scipy.stats.lognorm.pdf(x,s_fit,loc=loc_fit,scale=scale_fit),label='Lognorm')\n",
    "    plt.plot(x,scipy.stats.cauchy.pdf(x,loc=loc2_fit,scale=scale2_fit),label='Cauchy')\n",
    "    plt.xlabel('Percentage error compared to FCI energy [%]')\n",
    "    plt.ylabel('Frequency')\n",
    "    plt.legend()\n",
    "    plt.show()"
   ]
  },
  {
   "cell_type": "code",
   "execution_count": null,
   "id": "b4a157ca-35a8-4820-af5f-4ad34e005b26",
   "metadata": {},
   "outputs": [],
   "source": [
    "with plt.style.context('seaborn'):\n",
    "    f = Fitter(err, \n",
    "           distributions= get_common_distributions(),bins='auto')\n",
    "#Using fitter to gather loads of different distributions and calculate aic to rank them \n",
    "    f.fit() #showing fits\n",
    "    f.summary() #displaying summary table\n",
    "    plt.xlabel('Percentage error compared to FCI energy [%]')\n",
    "    plt.ylabel('Frequency')\n",
    "    plt.show()"
   ]
  },
  {
   "cell_type": "code",
   "execution_count": null,
   "id": "f5910c4b-83ff-4857-ba44-2acbc2997e47",
   "metadata": {},
   "outputs": [],
   "source": [
    "stat, p = shapiro(err)\n",
    "print('stat=%.3f, p=%.3f' % (stat, p))\n",
    "if p > 0.05:\n",
    "    print('Probably Gaussian')\n",
    "else:\n",
    "    print('Probably not Gaussian')"
   ]
  },
  {
   "cell_type": "code",
   "execution_count": null,
   "id": "f984e640-6300-4bac-b0f7-18335c82fc59",
   "metadata": {},
   "outputs": [],
   "source": []
  },
  {
   "cell_type": "code",
   "execution_count": null,
   "id": "9d5df264-ca90-47a0-aeef-77d8ab7b17ab",
   "metadata": {},
   "outputs": [],
   "source": []
  },
  {
   "cell_type": "code",
   "execution_count": null,
   "id": "e6ea0345-8903-4c29-b71f-19c22dde15f7",
   "metadata": {},
   "outputs": [],
   "source": []
  }
 ],
 "metadata": {
  "kernelspec": {
   "display_name": "Qiskit v0.35.0 (ipykernel)",
   "language": "python",
   "name": "python3"
  },
  "language_info": {
   "codemirror_mode": {
    "name": "ipython",
    "version": 3
   },
   "file_extension": ".py",
   "mimetype": "text/x-python",
   "name": "python",
   "nbconvert_exporter": "python",
   "pygments_lexer": "ipython3",
   "version": "3.8.13"
  },
  "widgets": {
   "application/vnd.jupyter.widget-state+json": {
    "state": {},
    "version_major": 2,
    "version_minor": 0
   }
  }
 },
 "nbformat": 4,
 "nbformat_minor": 5
}
