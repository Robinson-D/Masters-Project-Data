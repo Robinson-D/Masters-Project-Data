{
 "cells": [
  {
   "cell_type": "markdown",
   "id": "0a845336-06c5-47fd-8c3d-55cc838cdc4f",
   "metadata": {},
   "source": [
    "STO6G 4Q UCC POWELL"
   ]
  },
  {
   "cell_type": "code",
   "execution_count": null,
   "id": "e0fa8ebb-d6df-4c94-b9ab-4cb76927a472",
   "metadata": {},
   "outputs": [],
   "source": [
    "#loading libraries\n",
    "import os\n",
    "import csv\n",
    "import matplotlib.pyplot as plt\n",
    "import numpy as np\n",
    "import pandas as pd\n",
    "import scipy.stats\n",
    "from scipy.optimize import curve_fit\n",
    "from scipy.stats import shapiro\n",
    "!pip install fitter\n",
    "from fitter import Fitter, get_common_distributions, get_distributions\n",
    "from scipy.stats import norm\n",
    "from scipy.optimize import minimize\n",
    "%matplotlib inline\n",
    "from scipy.stats import lognorm "
   ]
  },
  {
   "cell_type": "markdown",
   "id": "20fdb8c4-bc45-422c-862a-bc126861c045",
   "metadata": {},
   "source": [
    "Exact Result: -1.0094847117246561 HF energy: -0.9243677282844516 Exact correlation energy: -0.08511698344020457"
   ]
  },
  {
   "cell_type": "code",
   "execution_count": null,
   "id": "dce5d913-53a7-4b9a-b83f-dd099354abb1",
   "metadata": {},
   "outputs": [],
   "source": [
    "with open(\"Exact_Sol_STO6G_4Q_UCC_POW.txt\",\"r\") as f: #\"Exact_Sol_sto6g_ucc_4qubit.txt\"\n",
    "    Ref_Energy = f.read()\n",
    "    \n",
    "print(Ref_Energy)"
   ]
  },
  {
   "cell_type": "code",
   "execution_count": null,
   "id": "2006aa6e-98f0-4928-abd1-2ee6ca6e9d06",
   "metadata": {},
   "outputs": [],
   "source": [
    "with open(\"STO6G_4Q_UCC_POW.txt\",\"r\") as f:\n",
    "    vqe_6G = f.read().splitlines()\n",
    "    vqe_6G.remove(\"Vqe Result\")\n",
    "    vqe_6G = list(map(float,vqe_6G))\n",
    "print(len(vqe_6G))"
   ]
  },
  {
   "cell_type": "code",
   "execution_count": null,
   "id": "d5787f44-963e-440a-9480-332c9a609f52",
   "metadata": {},
   "outputs": [],
   "source": [
    "with plt.style.context('seaborn'):\n",
    "    plt.hist(vqe_6G,density=True,bins='auto')\n",
    "    plt.xlabel('Energy [H]')\n",
    "    plt.ylabel('Frequency')\n",
    "    plt.show()"
   ]
  },
  {
   "cell_type": "code",
   "execution_count": null,
   "id": "0754056d-a995-4562-a474-b92fb112972d",
   "metadata": {},
   "outputs": [],
   "source": [
    "#Histogram of the percentage deviation from reference data for the tests\n",
    "# orginal 100*(np.array(ens)-REFERENCE_energy)/REFERENCE_energy\n",
    "with plt.style.context('seaborn'):\n",
    "    #plt.hist(100*(float(Ref_Energy)-np.array(vqe_6G))/float(Ref_Energy),density=True,bins='auto')\n",
    "    plt.hist(100*(np.array(vqe_6G)-float(Ref_Energy))/float(Ref_Energy),density=True,bins='auto')\n",
    "    plt.xlabel('Percentage error compared to FCI energy [%]')\n",
    "    plt.ylabel('Frequency')\n",
    "    plt.show()"
   ]
  },
  {
   "cell_type": "code",
   "execution_count": null,
   "id": "f93016f1-4719-48bf-b752-71e7726103a6",
   "metadata": {},
   "outputs": [],
   "source": [
    "err =100*(np.array(vqe_6G)-float(Ref_Energy))/float(Ref_Energy)\n",
    "\n",
    "[s_fit,loc_fit,scale_fit] = scipy.stats.lognorm.fit(err)\n",
    "[loc2_fit,scale2_fit] = scipy.stats.cauchy.fit(err)\n",
    "x = np.linspace(np.min(err),np.max(err))\n",
    "\n",
    "with plt.style.context('seaborn'):\n",
    "    plt.hist(err,bins = 'auto',density = True) #plotting rating hist\n",
    "    plt.plot(x,scipy.stats.lognorm.pdf(x,s_fit,loc=loc_fit,scale=scale_fit),label='Lognorm')\n",
    "    plt.plot(x,scipy.stats.cauchy.pdf(x,loc=loc2_fit,scale=scale2_fit),label='Cauchy')\n",
    "    plt.xlabel('Percentage error compared to FCI energy [%]')\n",
    "    plt.ylabel('Frequency')\n",
    "    plt.legend()\n",
    "    plt.show()"
   ]
  },
  {
   "cell_type": "code",
   "execution_count": null,
   "id": "4b67252f-63ff-48d0-bb14-9ec6bfe907f1",
   "metadata": {},
   "outputs": [],
   "source": [
    "with plt.style.context('seaborn'):\n",
    "    f = Fitter(err, \n",
    "           distributions= get_common_distributions(),bins='auto')\n",
    "#Using fitter to gather loads of different distributions and calculate aic to rank them \n",
    "    f.fit() #showing fits\n",
    "    f.summary() #displaying summary table\n",
    "    plt.xlabel('Percentage error compared to FCI energy [%]')\n",
    "    plt.ylabel('Frequency')\n",
    "    plt.show()"
   ]
  },
  {
   "cell_type": "code",
   "execution_count": null,
   "id": "bc2c6332-0082-40ac-bafd-bd25473c8af9",
   "metadata": {},
   "outputs": [],
   "source": [
    "stat, p = shapiro(err)\n",
    "print('stat=%.3f, p=%.3f' % (stat, p))\n",
    "if p > 0.05:\n",
    "    print('Probably Gaussian')\n",
    "else:\n",
    "    print('Probably not Gaussian')"
   ]
  }
 ],
 "metadata": {
  "kernelspec": {
   "display_name": "Qiskit v0.35.0 (ipykernel)",
   "language": "python",
   "name": "python3"
  },
  "language_info": {
   "codemirror_mode": {
    "name": "ipython",
    "version": 3
   },
   "file_extension": ".py",
   "mimetype": "text/x-python",
   "name": "python",
   "nbconvert_exporter": "python",
   "pygments_lexer": "ipython3",
   "version": "3.8.13"
  },
  "widgets": {
   "application/vnd.jupyter.widget-state+json": {
    "state": {},
    "version_major": 2,
    "version_minor": 0
   }
  }
 },
 "nbformat": 4,
 "nbformat_minor": 5
}
