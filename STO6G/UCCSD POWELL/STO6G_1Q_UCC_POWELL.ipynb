{
 "cells": [
  {
   "cell_type": "markdown",
   "id": "d082e84d-6ea0-40d1-942d-39d83a8ecd87",
   "metadata": {},
   "source": [
    "STO6G 1Q UCC POWELL"
   ]
  },
  {
   "cell_type": "markdown",
   "id": "679a32ec-fd38-4da2-aa83-1a7973ccc581",
   "metadata": {},
   "source": [
    "#loading libraries\n",
    "import os\n",
    "import csv\n",
    "import matplotlib.pyplot as plt\n",
    "import numpy as np\n",
    "import pandas as pd\n",
    "import scipy.stats\n",
    "from scipy.optimize import curve_fit\n",
    "from scipy.stats import shapiro\n",
    "!pip install fitter\n",
    "from fitter import Fitter, get_common_distributions, get_distributions\n",
    "from scipy.stats import norm\n",
    "from scipy.optimize import minimize\n",
    "%matplotlib inline\n",
    "from scipy.stats import lognorm "
   ]
  },
  {
   "cell_type": "markdown",
   "id": "967e8afe-7db1-4318-b66e-48c8fb219b2c",
   "metadata": {},
   "source": [
    "Exact Result: -1.0094847117246557 HF energy: -0.9243677282844516 Exact correlation energy: -0.08511698344020413"
   ]
  },
  {
   "cell_type": "code",
   "execution_count": null,
   "id": "7d3a4599-0a35-4327-b0f5-305c8e6cf54b",
   "metadata": {},
   "outputs": [],
   "source": [
    "with open(\"Exact_Sol_STO6G_1Q_UCC_POW.txt\",\"r\") as f: #\"Exact_Sol_sto6g_ucc_4qubit.txt\"\n",
    "    Ref_Energy = f.read()\n",
    "    \n",
    "print(Ref_Energy)"
   ]
  },
  {
   "cell_type": "code",
   "execution_count": null,
   "id": "b81bbbef-3646-4eef-8cbf-9022f58fe385",
   "metadata": {},
   "outputs": [],
   "source": [
    "with open(\"STO6G_1Q_UCC_POW.txt\",\"r\") as f:\n",
    "    vqe_6G = f.read().splitlines()\n",
    "    vqe_6G.remove(\"Vqe Result\")\n",
    "    vqe_6G = list(map(float,vqe_6G))\n",
    "print(len(vqe_6G))"
   ]
  },
  {
   "cell_type": "code",
   "execution_count": null,
   "id": "9fe51020-d7ef-4176-80e1-76c1e9e07689",
   "metadata": {},
   "outputs": [],
   "source": [
    "with plt.style.context('seaborn'):\n",
    "    plt.hist(vqe_6G,density=True,bins='auto')\n",
    "    plt.xlabel('Energy [H]')\n",
    "    plt.ylabel('Frequency')\n",
    "    plt.show()"
   ]
  },
  {
   "cell_type": "code",
   "execution_count": null,
   "id": "1aa50089-3e58-454e-888e-02bcda4cf76c",
   "metadata": {},
   "outputs": [],
   "source": [
    "#Histogram of the percentage deviation from reference data for the tests\n",
    "# orginal 100*(np.array(ens)-REFERENCE_energy)/REFERENCE_energy\n",
    "with plt.style.context('seaborn'):\n",
    "    #plt.hist(100*(float(Ref_Energy)-np.array(vqe_6G))/float(Ref_Energy),density=True,bins='auto')\n",
    "    plt.hist(100*(np.array(vqe_6G)-float(Ref_Energy))/float(Ref_Energy),density=True,bins='auto')\n",
    "    plt.xlabel('Percentage error compared to FCI energy [%]')\n",
    "    plt.ylabel('Frequency')\n",
    "    plt.show()"
   ]
  },
  {
   "cell_type": "code",
   "execution_count": null,
   "id": "c5b99151-8590-4e85-9c24-87052a2a9809",
   "metadata": {},
   "outputs": [],
   "source": [
    "err =100*(np.array(vqe_6G)-float(Ref_Energy))/float(Ref_Energy)\n",
    "\n",
    "[s_fit,loc_fit,scale_fit] = scipy.stats.lognorm.fit(err)\n",
    "[loc2_fit,scale2_fit] = scipy.stats.cauchy.fit(err)\n",
    "x = np.linspace(np.min(err),np.max(err))\n",
    "\n",
    "with plt.style.context('seaborn'):\n",
    "    plt.hist(err,bins = 'auto',density = True) #plotting rating hist\n",
    "    plt.plot(x,scipy.stats.lognorm.pdf(x,s_fit,loc=loc_fit,scale=scale_fit),label='Lognorm')\n",
    "    plt.plot(x,scipy.stats.cauchy.pdf(x,loc=loc2_fit,scale=scale2_fit),label='Cauchy')\n",
    "    plt.xlabel('Percentage error compared to FCI energy [%]')\n",
    "    plt.ylabel('Frequency')\n",
    "    plt.legend()\n",
    "    plt.show()"
   ]
  },
  {
   "cell_type": "code",
   "execution_count": null,
   "id": "2d52be6d-48a5-4ced-b955-3d10a6af77a0",
   "metadata": {},
   "outputs": [],
   "source": [
    "with plt.style.context('seaborn'):\n",
    "    f = Fitter(err, \n",
    "           distributions= get_common_distributions(),bins='auto')\n",
    "#Using fitter to gather loads of different distributions and calculate aic to rank them \n",
    "    f.fit() #showing fits\n",
    "    f.summary() #displaying summary table\n",
    "    plt.xlabel('Percentage error compared to FCI energy [%]')\n",
    "    plt.ylabel('Frequency')\n",
    "    plt.show()"
   ]
  },
  {
   "cell_type": "code",
   "execution_count": null,
   "id": "ce5b4e06-a0ce-4107-925e-7fc3f11f8d94",
   "metadata": {},
   "outputs": [],
   "source": [
    "stat, p = shapiro(err)\n",
    "print('stat=%.3f, p=%.3f' % (stat, p))\n",
    "if p > 0.05:\n",
    "    print('Probably Gaussian')\n",
    "else:\n",
    "    print('Probably not Gaussian')"
   ]
  }
 ],
 "metadata": {
  "kernelspec": {
   "display_name": "Qiskit v0.35.0 (ipykernel)",
   "language": "python",
   "name": "python3"
  },
  "language_info": {
   "codemirror_mode": {
    "name": "ipython",
    "version": 3
   },
   "file_extension": ".py",
   "mimetype": "text/x-python",
   "name": "python",
   "nbconvert_exporter": "python",
   "pygments_lexer": "ipython3",
   "version": "3.8.13"
  },
  "widgets": {
   "application/vnd.jupyter.widget-state+json": {
    "state": {},
    "version_major": 2,
    "version_minor": 0
   }
  }
 },
 "nbformat": 4,
 "nbformat_minor": 5
}
