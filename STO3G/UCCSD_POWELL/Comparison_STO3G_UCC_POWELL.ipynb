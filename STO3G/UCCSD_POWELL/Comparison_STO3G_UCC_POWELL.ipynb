{
 "cells": [
  {
   "cell_type": "code",
   "execution_count": 1,
   "id": "d9b95e59-afef-4247-8baf-7e369417cb4f",
   "metadata": {},
   "outputs": [
    {
     "name": "stderr",
     "output_type": "stream",
     "text": [
      "<frozen importlib._bootstrap>:219: RuntimeWarning: scipy._lib.messagestream.MessageStream size changed, may indicate binary incompatibility. Expected 56 from C header, got 64 from PyObject\n"
     ]
    },
    {
     "name": "stdout",
     "output_type": "stream",
     "text": [
      "Requirement already satisfied: fitter in /opt/conda/lib/python3.8/site-packages (1.4.0)\n",
      "Requirement already satisfied: pandas in /opt/conda/lib/python3.8/site-packages (from fitter) (1.3.5)\n",
      "Requirement already satisfied: click in /opt/conda/lib/python3.8/site-packages (from fitter) (8.1.2)\n",
      "Requirement already satisfied: matplotlib in /opt/conda/lib/python3.8/site-packages (from fitter) (3.5.1)\n",
      "Requirement already satisfied: scipy>=0.18 in /opt/conda/lib/python3.8/site-packages (from fitter) (1.8.0)\n",
      "Requirement already satisfied: easydev in /opt/conda/lib/python3.8/site-packages (from fitter) (0.12.0)\n",
      "Requirement already satisfied: joblib in /opt/conda/lib/python3.8/site-packages (from fitter) (1.1.0)\n",
      "Requirement already satisfied: numpy in /opt/conda/lib/python3.8/site-packages (from fitter) (1.21.5)\n",
      "Requirement already satisfied: colorlog in /opt/conda/lib/python3.8/site-packages (from easydev->fitter) (6.6.0)\n",
      "Requirement already satisfied: pexpect in /opt/conda/lib/python3.8/site-packages (from easydev->fitter) (4.8.0)\n",
      "Requirement already satisfied: colorama in /opt/conda/lib/python3.8/site-packages (from easydev->fitter) (0.4.4)\n",
      "Requirement already satisfied: pyparsing>=2.2.1 in /opt/conda/lib/python3.8/site-packages (from matplotlib->fitter) (3.0.7)\n",
      "Requirement already satisfied: fonttools>=4.22.0 in /opt/conda/lib/python3.8/site-packages (from matplotlib->fitter) (4.31.2)\n",
      "Requirement already satisfied: packaging>=20.0 in /opt/conda/lib/python3.8/site-packages (from matplotlib->fitter) (21.3)\n",
      "Requirement already satisfied: pillow>=6.2.0 in /opt/conda/lib/python3.8/site-packages (from matplotlib->fitter) (9.0.1)\n",
      "Requirement already satisfied: python-dateutil>=2.7 in /opt/conda/lib/python3.8/site-packages (from matplotlib->fitter) (2.8.2)\n",
      "Requirement already satisfied: kiwisolver>=1.0.1 in /opt/conda/lib/python3.8/site-packages (from matplotlib->fitter) (1.4.2)\n",
      "Requirement already satisfied: cycler>=0.10 in /opt/conda/lib/python3.8/site-packages (from matplotlib->fitter) (0.11.0)\n",
      "Requirement already satisfied: six>=1.5 in /opt/conda/lib/python3.8/site-packages (from python-dateutil>=2.7->matplotlib->fitter) (1.16.0)\n",
      "Requirement already satisfied: pytz>=2017.3 in /opt/conda/lib/python3.8/site-packages (from pandas->fitter) (2022.1)\n",
      "Requirement already satisfied: ptyprocess>=0.5 in /opt/conda/lib/python3.8/site-packages (from pexpect->easydev->fitter) (0.7.0)\n"
     ]
    }
   ],
   "source": [
    "#loading libraries\n",
    "import os\n",
    "import csv\n",
    "import matplotlib.pyplot as plt\n",
    "import numpy as np\n",
    "import pandas as pd\n",
    "import scipy.stats\n",
    "from scipy.optimize import curve_fit\n",
    "from scipy.stats import shapiro\n",
    "!pip install fitter\n",
    "from fitter import Fitter, get_common_distributions, get_distributions\n",
    "from scipy.stats import norm\n",
    "from scipy.optimize import minimize\n",
    "%matplotlib inline\n",
    "from scipy.stats import lognorm "
   ]
  },
  {
   "cell_type": "markdown",
   "id": "42f13b6b-1ac7-44fb-8fbc-334dbd11055e",
   "metadata": {},
   "source": [
    "### Reading in data "
   ]
  },
  {
   "cell_type": "markdown",
   "id": "1ac22139-34c4-4192-82db-1f82e6d7ae3d",
   "metadata": {},
   "source": [
    "4 qubits"
   ]
  },
  {
   "cell_type": "code",
   "execution_count": 2,
   "id": "ff3189bc-badb-48a6-be40-0dfc11285fe8",
   "metadata": {},
   "outputs": [
    {
     "name": "stdout",
     "output_type": "stream",
     "text": [
      "-1.0011251956327838\n"
     ]
    }
   ],
   "source": [
    "with open(\"Exact_Sol_STO3G_4Q_UCC_POWELL.txt\",\"r\") as f: \n",
    "    Ref_Energy_4Q = f.read()\n",
    "    \n",
    "print(Ref_Energy_4Q)"
   ]
  },
  {
   "cell_type": "code",
   "execution_count": 3,
   "id": "16fe4a6b-2521-43ba-93e9-378982d884e2",
   "metadata": {},
   "outputs": [
    {
     "name": "stdout",
     "output_type": "stream",
     "text": [
      "100\n"
     ]
    }
   ],
   "source": [
    "with open(\"STO3G_4Q_UCC_POWELL.txt\",\"r\") as f:\n",
    "    STO3G_4Q = f.read().splitlines()\n",
    "#    vqe_6G.remove(\"Vqe Result\")\n",
    "    STO3G_4Q = list(map(float,STO3G_4Q))\n",
    "print(len(STO3G_4Q))"
   ]
  },
  {
   "cell_type": "markdown",
   "id": "6057e56d-e284-449c-aa32-0f2807edd3d1",
   "metadata": {},
   "source": [
    "2 qubits"
   ]
  },
  {
   "cell_type": "code",
   "execution_count": 4,
   "id": "e32f9128-7256-4735-96d9-36feb96489d4",
   "metadata": {},
   "outputs": [
    {
     "name": "stdout",
     "output_type": "stream",
     "text": [
      "-1.0011251956327867\n"
     ]
    }
   ],
   "source": [
    "with open(\"Exact_Sol_STO3G_2Q_UCC_POWELL.txt\",\"r\") as f:\n",
    "    Ref_Energy_2Q = f.read()\n",
    "    \n",
    "print(Ref_Energy_2Q)"
   ]
  },
  {
   "cell_type": "code",
   "execution_count": 5,
   "id": "bf71a66d-bc75-4c7a-9836-f3132db6cafe",
   "metadata": {},
   "outputs": [
    {
     "name": "stdout",
     "output_type": "stream",
     "text": [
      "100\n"
     ]
    }
   ],
   "source": [
    "with open(\"STO3G_2Q_UCC_POWELL.txt\",\"r\") as f:\n",
    "    STO3G_2Q = f.read().splitlines()\n",
    "#    vqe_6G.remove(\"Vqe Result\")\n",
    "    STO3G_2Q = list(map(float,STO3G_2Q))\n",
    "print(len(STO3G_2Q))"
   ]
  },
  {
   "cell_type": "markdown",
   "id": "e29ee0c2-94ca-4a39-9dae-10e2297626d5",
   "metadata": {},
   "source": [
    "1 qubit"
   ]
  },
  {
   "cell_type": "code",
   "execution_count": 6,
   "id": "21bc4cdb-8ebf-46cd-b403-f1a7be64ec4b",
   "metadata": {},
   "outputs": [
    {
     "name": "stdout",
     "output_type": "stream",
     "text": [
      "-1.0011251956327858\n"
     ]
    }
   ],
   "source": [
    "with open(\"Exact_Sol_STO3G_1Q_UCC_POWELL.txt\",\"r\") as f:\n",
    "    Ref_Energy_1Q = f.read()\n",
    "    \n",
    "print(Ref_Energy_1Q)"
   ]
  },
  {
   "cell_type": "code",
   "execution_count": 7,
   "id": "1099f277-50c4-44dc-bd65-f16ce8e559b8",
   "metadata": {},
   "outputs": [
    {
     "name": "stdout",
     "output_type": "stream",
     "text": [
      "100\n"
     ]
    }
   ],
   "source": [
    "with open(\"STO3G_1Q_UCC_POWELL.txt\",\"r\") as f:\n",
    "    STO3G_1Q = f.read().splitlines()\n",
    "#    vqe_6G.remove(\"Vqe Result\")\n",
    "    STO3G_1Q = list(map(float,STO3G_1Q))\n",
    "print(len(STO3G_1Q))"
   ]
  },
  {
   "cell_type": "markdown",
   "id": "05d8e404-47ae-42a3-8e82-55adef8c2b40",
   "metadata": {},
   "source": [
    "### Graphs"
   ]
  },
  {
   "cell_type": "code",
   "execution_count": 9,
   "id": "7d66a9a6-9310-40db-a864-ef783f27e815",
   "metadata": {},
   "outputs": [
    {
     "data": {
      "image/png": "[encoded data removed]",
      "text/plain": [
       "<Figure size 576x396 with 1 Axes>"
      ]
     },
     "metadata": {},
     "output_type": "display_data"
    }
   ],
   "source": [
    "with plt.style.context('seaborn'):\n",
    "    plt.hist(100*(np.array(STO3G_4Q)-float(Ref_Energy_4Q))/float(Ref_Energy_4Q),density=True,bins='auto',label='4 qubits')\n",
    "    plt.hist(100*(np.array(STO3G_2Q)-float(Ref_Energy_2Q))/float(Ref_Energy_2Q),density=True,bins='auto',label='2 qubits')\n",
    "    plt.hist(100*(np.array(STO3G_1Q)-float(Ref_Energy_1Q))/float(Ref_Energy_1Q),density=True,bins='auto',label='1 qubits')\n",
    "    plt.title('Error Comparison for Different Number of Qubits \\n Basis = STO3G, Ansatz = UCCSD, Optimiser = POWELL, Samples = 100')\n",
    "    plt.xlabel('Percentage error compared to FCI energy [%]')\n",
    "    plt.ylabel('Frequency')\n",
    "    plt.legend()\n",
    "    plt.show()"
   ]
  },
  {
   "cell_type": "code",
   "execution_count": null,
   "id": "14a132af-f3ed-4294-968e-95d464dadb38",
   "metadata": {},
   "outputs": [],
   "source": []
  },
  {
   "cell_type": "code",
   "execution_count": null,
   "id": "8c8f7a98-c2bc-4750-b8b2-51747cd50fcd",
   "metadata": {},
   "outputs": [],
   "source": []
  }
 ],
 "metadata": {
  "kernelspec": {
   "display_name": "Qiskit v0.35.0 (ipykernel)",
   "language": "python",
   "name": "python3"
  },
  "language_info": {
   "codemirror_mode": {
    "name": "ipython",
    "version": 3
   },
   "file_extension": ".py",
   "mimetype": "text/x-python",
   "name": "python",
   "nbconvert_exporter": "python",
   "pygments_lexer": "ipython3",
   "version": "3.8.13"
  },
  "widgets": {
   "application/vnd.jupyter.widget-state+json": {
    "state": {},
    "version_major": 2,
    "version_minor": 0
   }
  }
 },
 "nbformat": 4,
 "nbformat_minor": 5
}
