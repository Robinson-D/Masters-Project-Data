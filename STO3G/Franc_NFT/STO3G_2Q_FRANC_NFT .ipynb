{
 "cells": [
  {
   "cell_type": "markdown",
   "id": "d4e22a76-c8dd-46da-8010-16a30e783292",
   "metadata": {},
   "source": [
    "STO3G 2Q FRANC NFT"
   ]
  },
  {
   "cell_type": "code",
   "execution_count": null,
   "id": "2113f1d5-7567-429f-8c94-21d29cff6b7f",
   "metadata": {},
   "outputs": [],
   "source": [
    "#loading libraries\n",
    "import os\n",
    "import csv\n",
    "import matplotlib.pyplot as plt\n",
    "import numpy as np\n",
    "import pandas as pd\n",
    "import scipy.stats\n",
    "from scipy.optimize import curve_fit\n",
    "from scipy.stats import shapiro\n",
    "!pip install fitter\n",
    "from fitter import Fitter, get_common_distributions, get_distributions\n",
    "from scipy.stats import norm\n",
    "from scipy.optimize import minimize\n",
    "%matplotlib inline\n",
    "from scipy.stats import lognorm"
   ]
  },
  {
   "cell_type": "markdown",
   "id": "e13af280-bafb-49e9-a5cb-aae2e079106b",
   "metadata": {},
   "source": [
    "Exact Result: -1.0011251956327838 HF energy: -0.9163768770236478 Exact correlation energy: -0.08474831860913601"
   ]
  },
  {
   "cell_type": "code",
   "execution_count": null,
   "id": "72563c0a-00cb-4c77-a2ce-a1708e0b08fa",
   "metadata": {},
   "outputs": [],
   "source": [
    "with open(\"Exact_Sol_STO3G_2Q_Franc_NFT.txt\",\"r\") as f: \n",
    "    Ref_Energy = f.read()\n",
    "    \n",
    "print(Ref_Energy)"
   ]
  },
  {
   "cell_type": "code",
   "execution_count": null,
   "id": "4759c188-b040-48a2-928f-f9665f66e658",
   "metadata": {},
   "outputs": [],
   "source": [
    "with open(\"STO3G_2Q_Franc_NFT.txt\",\"r\") as f: \n",
    "    vqe_6G = f.read().splitlines()\n",
    "#    vqe_6G.remove(\"Vqe Result\")\n",
    "    vqe_6G = list(map(float,vqe_6G))\n",
    "print(len(vqe_6G))"
   ]
  },
  {
   "cell_type": "code",
   "execution_count": null,
   "id": "2cf066be-9e82-41dd-a13c-8e11d8034dfd",
   "metadata": {},
   "outputs": [],
   "source": [
    "with plt.style.context('seaborn'):\n",
    "    plt.hist(vqe_6G,density=True,bins='auto')\n",
    "    plt.xlabel('Energy [H]')\n",
    "    plt.ylabel('Frequency')\n",
    "    plt.show()"
   ]
  },
  {
   "cell_type": "code",
   "execution_count": null,
   "id": "c2c60ce6-268a-421a-9185-f61b765bcc19",
   "metadata": {},
   "outputs": [],
   "source": [
    "#Histogram of the percentage deviation from reference data for the tests\n",
    "# orginal 100*(np.array(ens)-REFERENCE_energy)/REFERENCE_energy\n",
    "with plt.style.context('seaborn'):\n",
    "    #plt.hist(100*(float(Ref_Energy)-np.array(vqe_6G))/float(Ref_Energy),density=True,bins='auto')\n",
    "    plt.hist(100*(np.array(vqe_6G)-float(Ref_Energy))/float(Ref_Energy),density=True,bins='auto')\n",
    "    plt.xlabel('Percentage error compared to FCI energy [%]')\n",
    "    plt.ylabel('Frequency')\n",
    "    plt.show()"
   ]
  },
  {
   "cell_type": "code",
   "execution_count": null,
   "id": "20c878f3-055e-4577-8a9b-fbc5474ea1ec",
   "metadata": {},
   "outputs": [],
   "source": [
    "err =100*(np.array(vqe_6G)-float(Ref_Energy))/float(Ref_Energy)\n",
    "\n",
    "[s_fit,loc_fit,scale_fit] = scipy.stats.lognorm.fit(err)\n",
    "[loc2_fit,scale2_fit] = scipy.stats.cauchy.fit(err)\n",
    "x = np.linspace(np.min(err),np.max(err))\n",
    "\n",
    "with plt.style.context('seaborn'):\n",
    "    plt.hist(err,bins = 'auto',density = True) #plotting rating hist\n",
    "    plt.plot(x,scipy.stats.lognorm.pdf(x,s_fit,loc=loc_fit,scale=scale_fit),label='Lognorm')\n",
    "    plt.plot(x,scipy.stats.cauchy.pdf(x,loc=loc2_fit,scale=scale2_fit),label='Cauchy')\n",
    "    plt.xlabel('Percentage error compared to FCI energy [%]')\n",
    "    plt.ylabel('Frequency')\n",
    "    plt.legend()\n",
    "    plt.show()"
   ]
  },
  {
   "cell_type": "code",
   "execution_count": null,
   "id": "a995d54b-a820-4907-b0b8-cacd4937bb2c",
   "metadata": {},
   "outputs": [],
   "source": [
    "with plt.style.context('seaborn'):\n",
    "    f = Fitter(err, \n",
    "           distributions= get_common_distributions(),bins='auto')\n",
    "#Using fitter to gather loads of different distributions and calculate aic to rank them \n",
    "    f.fit() #showing fits\n",
    "    f.summary() #displaying summary table\n",
    "    plt.xlabel('Percentage error compared to FCI energy [%]')\n",
    "    plt.ylabel('Frequency')\n",
    "    plt.show()"
   ]
  },
  {
   "cell_type": "code",
   "execution_count": null,
   "id": "f45a180a-7ed7-49d8-b7c1-37ab0f719bcf",
   "metadata": {},
   "outputs": [],
   "source": [
    "stat, p = shapiro(err)\n",
    "print('stat=%.3f, p=%.3f' % (stat, p))\n",
    "if p > 0.05:\n",
    "    print('Probably Gaussian')\n",
    "else:\n",
    "    print('Probably not Gaussian')"
   ]
  },
  {
   "cell_type": "code",
   "execution_count": null,
   "id": "e2360509-64a1-43b7-8fec-cac61550b737",
   "metadata": {},
   "outputs": [],
   "source": []
  },
  {
   "cell_type": "code",
   "execution_count": null,
   "id": "7d39ff2d-4a4d-44ec-9f27-5c7b0f40844f",
   "metadata": {},
   "outputs": [],
   "source": []
  }
 ],
 "metadata": {
  "kernelspec": {
   "display_name": "Qiskit v0.35.0 (ipykernel)",
   "language": "python",
   "name": "python3"
  },
  "language_info": {
   "codemirror_mode": {
    "name": "ipython",
    "version": 3
   },
   "file_extension": ".py",
   "mimetype": "text/x-python",
   "name": "python",
   "nbconvert_exporter": "python",
   "pygments_lexer": "ipython3",
   "version": "3.8.13"
  },
  "widgets": {
   "application/vnd.jupyter.widget-state+json": {
    "state": {},
    "version_major": 2,
    "version_minor": 0
   }
  }
 },
 "nbformat": 4,
 "nbformat_minor": 5
}
