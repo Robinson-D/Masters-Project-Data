{
 "cells": [
  {
   "cell_type": "markdown",
   "id": "18d0ae66-8d23-4a54-a71f-d367bc5b682d",
   "metadata": {},
   "source": [
    "MINI 2Q UCC POWELL"
   ]
  },
  {
   "cell_type": "code",
   "execution_count": null,
   "id": "232051a6-b7fb-4796-b824-766152154146",
   "metadata": {},
   "outputs": [],
   "source": [
    "#loading libraries\n",
    "import os\n",
    "import csv\n",
    "import matplotlib.pyplot as plt\n",
    "import numpy as np\n",
    "import pandas as pd\n",
    "import scipy.stats\n",
    "from scipy.optimize import curve_fit\n",
    "from scipy.stats import shapiro\n",
    "!pip install fitter\n",
    "from fitter import Fitter, get_common_distributions, get_distributions\n",
    "from scipy.stats import norm\n",
    "from scipy.optimize import minimize\n",
    "%matplotlib inline\n",
    "from scipy.stats import lognorm"
   ]
  },
  {
   "cell_type": "markdown",
   "id": "f3f0c270-04fd-4d75-8c14-f695f1dcd88b",
   "metadata": {},
   "source": [
    "Exact Result: -1.0521545049632666 HF energy: -0.9974650419151752 Exact correlation energy: -0.05468946304809141"
   ]
  },
  {
   "cell_type": "code",
   "execution_count": null,
   "id": "3954b9ee-401f-4643-8bfb-a7ad8bb5e1a2",
   "metadata": {},
   "outputs": [],
   "source": [
    "with open(\"Exact_Sol_MINI_2Q_UCC_POWELL.txt\",\"r\") as f:\n",
    "    Ref_Energy = f.read()\n",
    "    \n",
    "print(Ref_Energy)"
   ]
  },
  {
   "cell_type": "code",
   "execution_count": null,
   "id": "97cc13af-d781-45ae-ae41-990c4d7c6d97",
   "metadata": {},
   "outputs": [],
   "source": [
    "with open(\"MINI_2Q_UCC_POWELL.txt\",\"r\") as f:\n",
    "    vqe_MINI = f.read().splitlines()\n",
    "#    vqe_6G.remove(\"Vqe Result\")\n",
    "    vqe_MINI = list(map(float,vqe_MINI))\n",
    "print(len(vqe_MINI))"
   ]
  },
  {
   "cell_type": "code",
   "execution_count": null,
   "id": "9a3f0897-2a13-4a81-9aff-92f6668b09e9",
   "metadata": {},
   "outputs": [],
   "source": [
    "with plt.style.context('seaborn'):\n",
    "    plt.hist(vqe_MINI,density=True,bins='auto')\n",
    "    plt.xlabel('Energy [H]')\n",
    "    plt.ylabel('Frequency')\n",
    "    plt.show()"
   ]
  },
  {
   "cell_type": "code",
   "execution_count": null,
   "id": "70bf2354-72c2-45da-a75c-288887761c88",
   "metadata": {},
   "outputs": [],
   "source": [
    "#Histogram of the percentage deviation from reference data for the tests\n",
    "# orginal 100*(np.array(ens)-REFERENCE_energy)/REFERENCE_energy\n",
    "with plt.style.context('seaborn'):\n",
    "    #plt.hist(100*(float(Ref_Energy)-np.array(vqe_MINI))/float(Ref_Energy),density=True,bins='auto')\n",
    "    plt.hist(100*(np.array(vqe_MINI)-float(Ref_Energy))/float(Ref_Energy),density=True,bins='auto')\n",
    "    plt.xlabel('Percentage error compared to FCI energy [%]')\n",
    "    plt.ylabel('Frequency')\n",
    "    plt.show()"
   ]
  },
  {
   "cell_type": "code",
   "execution_count": null,
   "id": "3d8ce391-02a0-4f4f-919f-387e0e3756d7",
   "metadata": {},
   "outputs": [],
   "source": [
    "err =100*(np.array(vqe_MINI)-float(Ref_Energy))/float(Ref_Energy)\n",
    "\n",
    "[s_fit,loc_fit,scale_fit] = scipy.stats.lognorm.fit(err)\n",
    "[loc2_fit,scale2_fit] = scipy.stats.cauchy.fit(err)\n",
    "x = np.linspace(np.min(err),np.max(err))\n",
    "\n",
    "with plt.style.context('seaborn'):\n",
    "    plt.hist(err,bins = 'auto',density = True) #plotting rating hist\n",
    "    plt.plot(x,scipy.stats.lognorm.pdf(x,s_fit,loc=loc_fit,scale=scale_fit),label='Lognorm')\n",
    "    plt.plot(x,scipy.stats.cauchy.pdf(x,loc=loc2_fit,scale=scale2_fit),label='Cauchy')\n",
    "    plt.xlabel('Percentage error compared to FCI energy [%]')\n",
    "    plt.ylabel('Frequency')\n",
    "    plt.legend()\n",
    "    plt.show()"
   ]
  },
  {
   "cell_type": "code",
   "execution_count": null,
   "id": "d1de3c0f-ae71-4d50-bdc0-5669bae9918d",
   "metadata": {},
   "outputs": [],
   "source": [
    "with plt.style.context('seaborn'):\n",
    "    f = Fitter(err, \n",
    "           distributions= get_common_distributions(),bins='auto')\n",
    "#Using fitter to gather loads of different distributions and calculate aic to rank them \n",
    "    f.fit() #showing fits\n",
    "    f.summary() #displaying summary table\n",
    "    plt.xlabel('Percentage error compared to FCI energy [%]')\n",
    "    plt.ylabel('Frequency')\n",
    "    plt.show()"
   ]
  },
  {
   "cell_type": "code",
   "execution_count": null,
   "id": "c342cbe1-a7aa-416f-bd02-9aec380264f6",
   "metadata": {},
   "outputs": [],
   "source": [
    "stat, p = shapiro(err)\n",
    "print('stat=%.3f, p=%.3f' % (stat, p))\n",
    "if p > 0.05:\n",
    "    print('Probably Gaussian')\n",
    "else:\n",
    "    print('Probably not Gaussian')"
   ]
  }
 ],
 "metadata": {
  "kernelspec": {
   "display_name": "Qiskit v0.35.0 (ipykernel)",
   "language": "python",
   "name": "python3"
  },
  "language_info": {
   "codemirror_mode": {
    "name": "ipython",
    "version": 3
   },
   "file_extension": ".py",
   "mimetype": "text/x-python",
   "name": "python",
   "nbconvert_exporter": "python",
   "pygments_lexer": "ipython3",
   "version": "3.8.13"
  },
  "widgets": {
   "application/vnd.jupyter.widget-state+json": {
    "state": {},
    "version_major": 2,
    "version_minor": 0
   }
  }
 },
 "nbformat": 4,
 "nbformat_minor": 5
}
